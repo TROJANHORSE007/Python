{
 "cells": [
  {
   "cell_type": "markdown",
   "metadata": {},
   "source": [
    "    --> Python Program to Print Hello world!"
   ]
  },
  {
   "cell_type": "code",
   "execution_count": 1,
   "metadata": {},
   "outputs": [
    {
     "name": "stdout",
     "output_type": "stream",
     "text": [
      "Hello world!\n"
     ]
    }
   ],
   "source": [
    "print(\"Hello world!\")"
   ]
  },
  {
   "cell_type": "markdown",
   "metadata": {},
   "source": [
    "    --> Python Program to Add Two Numbers"
   ]
  },
  {
   "cell_type": "code",
   "execution_count": 2,
   "metadata": {},
   "outputs": [
    {
     "name": "stdout",
     "output_type": "stream",
     "text": [
      "Enter First Number :-    45\n",
      "Enter Second Number :-    45\n",
      "Sum Of Enter Numbers Is :-    90\n"
     ]
    }
   ],
   "source": [
    "a = int(input(\"Enter First Number :-    \"))\n",
    "b = int(input(\"Enter Second Number :-    \"))\n",
    "\n",
    "sum = a + b\n",
    "print(\"Sum Of Enter Numbers Is :-   \",sum)"
   ]
  },
  {
   "cell_type": "markdown",
   "metadata": {},
   "source": [
    "    --> Python Program to Find the Square Root"
   ]
  },
  {
   "cell_type": "code",
   "execution_count": 5,
   "metadata": {},
   "outputs": [
    {
     "name": "stdout",
     "output_type": "stream",
     "text": [
      "Enter Number Which Square Root :-   4\n",
      "Square Root Is :-    2.0\n"
     ]
    }
   ],
   "source": [
    "import math \n",
    "\n",
    "a = int(input(\"Enter Number Which Square Root :-   \"))\n",
    "\n",
    "print(\"Square Root Is :-   \",math.sqrt(a))"
   ]
  },
  {
   "cell_type": "code",
   "execution_count": 6,
   "metadata": {},
   "outputs": [
    {
     "name": "stdout",
     "output_type": "stream",
     "text": [
      "Enter Base Of A Tringle :-    4\n",
      "Enter Hight Of A Tringle :-    15\n",
      "Area Of Tringle Is :-     30.0\n"
     ]
    }
   ],
   "source": [
    "base = int(input(\"Enter Base Of A Tringle :-    \"))\n",
    "hight = int(input(\"Enter Hight Of A Tringle :-    \"))\n",
    "\n",
    "area = 1/2 * (base * hight)\n",
    "\n",
    "print(\"Area Of Tringle Is :-    \",area)"
   ]
  },
  {
   "cell_type": "markdown",
   "metadata": {},
   "source": [
    "    --> Python Program to Swap Two Variables"
   ]
  },
  {
   "cell_type": "code",
   "execution_count": 9,
   "metadata": {},
   "outputs": [
    {
     "name": "stdout",
     "output_type": "stream",
     "text": [
      "Enter First Number :-    10\n",
      "Enter Second Number :-    20\n",
      "Now Value Of A Is :-     20\n",
      "Now Value Of B Is :-     10\n"
     ]
    }
   ],
   "source": [
    "a = int(input(\"Enter First Number :-    \"))\n",
    "b = int(input(\"Enter Second Number :-    \"))\n",
    "\n",
    "a = a + b\n",
    "b = a - b\n",
    "a = a - b\n",
    "\n",
    "print(\"Now Value Of A Is :-    \",a)\n",
    "print(\"Now Value Of B Is :-    \",b)"
   ]
  },
  {
   "cell_type": "markdown",
   "metadata": {},
   "source": [
    "    --> Python Program to Generate a Random Number"
   ]
  },
  {
   "cell_type": "code",
   "execution_count": 14,
   "metadata": {},
   "outputs": [
    {
     "name": "stdout",
     "output_type": "stream",
     "text": [
      "724363\n"
     ]
    }
   ],
   "source": [
    "import string\n",
    "import random\n",
    "val = string.digits\n",
    "\n",
    "rd_nu = ''\n",
    "for i in range(6):\n",
    "    rd_nu = rd_nu + random.choice(val)\n",
    "print(rd_nu)"
   ]
  },
  {
   "cell_type": "markdown",
   "metadata": {},
   "source": [
    "    --> Python Program to Convert Kilometers to Miles"
   ]
  },
  {
   "cell_type": "code",
   "execution_count": 16,
   "metadata": {},
   "outputs": [
    {
     "name": "stdout",
     "output_type": "stream",
     "text": [
      "Enter Distence In Kilometers :-    152\n",
      "Didtence In Miles Is :-     94.448392\n"
     ]
    }
   ],
   "source": [
    "km = int(input(\"Enter Distence In Kilometers :-    \"))\n",
    "miles = 0.621371 * km\n",
    "\n",
    "print(\"Didtence In Miles Is :-    \",miles)"
   ]
  },
  {
   "cell_type": "markdown",
   "metadata": {},
   "source": [
    "    --> Python Program to Convert Celsius To Fahrenheit"
   ]
  },
  {
   "cell_type": "code",
   "execution_count": 19,
   "metadata": {},
   "outputs": [
    {
     "name": "stdout",
     "output_type": "stream",
     "text": [
      "Enter Temperature In Celsius :-    37.5\n",
      "Temperature In Fahrenhite Is :-     99.5\n"
     ]
    }
   ],
   "source": [
    "celsius = float(input(\"Enter Temperature In Celsius :-    \"))\n",
    "\n",
    "fahrenheit = 9.0/5.0 * celsius + 32\n",
    "\n",
    "print(\"Temperature In Fahrenhite Is :-    \",fahrenheit)"
   ]
  },
  {
   "cell_type": "markdown",
   "metadata": {},
   "source": [
    "    --> Python Program to Check Prime Number"
   ]
  },
  {
   "cell_type": "code",
   "execution_count": 21,
   "metadata": {},
   "outputs": [
    {
     "name": "stdout",
     "output_type": "stream",
     "text": [
      "Enter Number To Check Prime Or Not :-    36\n",
      "36  Is not A Prime Number\n"
     ]
    }
   ],
   "source": [
    "num = int(input(\"Enter Number To Check Prime Or Not :-    \"))\n",
    "\n",
    "if (num > 1):\n",
    "    for i in range(2,num//2):\n",
    "        if(num % i == 0):\n",
    "            print(num, \" Is not A Prime Number\")\n",
    "            break\n",
    "        else:\n",
    "            print(num, \" Is A Prime Number\")\n",
    "else:\n",
    "    print(num,\" Is Not A Prime Number\")"
   ]
  },
  {
   "cell_type": "markdown",
   "metadata": {},
   "source": [
    "    --> Python Program to Print all Prime Numbers in an Interval"
   ]
  },
  {
   "cell_type": "code",
   "execution_count": null,
   "metadata": {},
   "outputs": [],
   "source": []
  }
 ],
 "metadata": {
  "kernelspec": {
   "display_name": "Python 3",
   "language": "python",
   "name": "python3"
  },
  "language_info": {
   "codemirror_mode": {
    "name": "ipython",
    "version": 3
   },
   "file_extension": ".py",
   "mimetype": "text/x-python",
   "name": "python",
   "nbconvert_exporter": "python",
   "pygments_lexer": "ipython3",
   "version": "3.7.3"
  }
 },
 "nbformat": 4,
 "nbformat_minor": 2
}
