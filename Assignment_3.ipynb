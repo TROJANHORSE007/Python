{
 "cells": [
  {
   "cell_type": "markdown",
   "metadata": {},
   "source": [
    "    --> 1. Create a program that asks the user to enter their name and their age. Print out a      message addressed to them that tells them the year that they will turn 100 years old."
   ]
  },
  {
   "cell_type": "code",
   "execution_count": 2,
   "metadata": {},
   "outputs": [
    {
     "name": "stdout",
     "output_type": "stream",
     "text": [
      "Enter Name :-    Shubham Jangid\n",
      "Enter Current Age :-    21\n",
      "Shubham Jangid\n",
      "You Will Turn 100 Year In :-     2098\n"
     ]
    }
   ],
   "source": [
    "from datetime import datetime\n",
    "\n",
    "def age_cal(age):\n",
    "    cur_date = datetime.now().year\n",
    "    age = age\n",
    "    remn_year = 100 - age\n",
    "    turn_100 = cur_date + remn_year\n",
    "    print(\"You Will Turn 100 Year In :-    \",turn_100)\n",
    "    \n",
    "name = input(\"Enter Name :-    \")\n",
    "age = int(input(\"Enter Current Age :-    \"))\n",
    "\n",
    "print(name)\n",
    "age_cal(age)    "
   ]
  },
  {
   "cell_type": "markdown",
   "metadata": {},
   "source": [
    "    --> 2.\tAsk the user for a number. Depending on whether the number is even or odd, print out an appropriate message to the user. Hint: how does an even / odd number react differently when divided by 2?"
   ]
  },
  {
   "cell_type": "code",
   "execution_count": 2,
   "metadata": {},
   "outputs": [
    {
     "name": "stdout",
     "output_type": "stream",
     "text": [
      "Enter A Number Which You Want To Check Either That Number Is Even Or Odd :-    54\n",
      "Enter Number Is An Even Numebr\n"
     ]
    }
   ],
   "source": [
    "num = int(input(\"Enter A Number Which You Want To Check Either That Number Is Even Or Odd :-    \"))\n",
    "if(num % 2 == 0):\n",
    "    print(\"Enter Number Is An Even Numebr\")\n",
    "else :\n",
    "    print(\"Enter Number Is A Odd Number\")"
   ]
  },
  {
   "cell_type": "markdown",
   "metadata": {},
   "source": [
    "    --> 3.\tTake a list, say for example this one:\n",
    "      a = [1, 1, 2, 3, 5, 8, 13, 21, 34, 55, 89]\n",
    "        and write a program that prints out all the elements of the list that are less than 5.\n"
   ]
  },
  {
   "cell_type": "code",
   "execution_count": 11,
   "metadata": {},
   "outputs": [
    {
     "name": "stdout",
     "output_type": "stream",
     "text": [
      "Enter number of :-    4\n",
      "Enter Element :-    12\n",
      "Enter Element :-    4\n",
      "Enter Element :-    3\n",
      "Enter Element :-    42\n",
      "Entered List Is :-    [12, 4, 3, 42]\n",
      "[4, 3]\n"
     ]
    }
   ],
   "source": [
    "n = int(input(\"Enter number of :-    \"))\n",
    "\n",
    "li = []\n",
    "\n",
    "for i in range(0,n):\n",
    "    ele = int(input(\"Enter Element :-    \"))\n",
    "    \n",
    "    li.append(ele)\n",
    "print(\"Entered List Is :-   \",li)\n",
    "    \n",
    "new_list = []\n",
    "\n",
    "for i in li:\n",
    "    if i < 5:\n",
    "        new_list.append(i)\n",
    "print(new_list)"
   ]
  },
  {
   "cell_type": "markdown",
   "metadata": {},
   "source": [
    "    --> 4.\tCreate a program that asks the user for a number and then prints out a list of all the divisors of that number. (If you don’t know what a divisor is, it is a number that divides evenly into another number. For example, 13 is a divisor of 26 because 26 / 13 has no remainder.)"
   ]
  },
  {
   "cell_type": "code",
   "execution_count": 7,
   "metadata": {},
   "outputs": [
    {
     "name": "stdout",
     "output_type": "stream",
     "text": [
      "Enter A Number :-    55\n",
      "Enter Number Is Divisival by  [1, 5, 11]\n"
     ]
    }
   ],
   "source": [
    "num = int(input(\"Enter A Number :-    \"))\n",
    "\n",
    "li = []\n",
    "\n",
    "for i in range(1,((num//2)+1)):\n",
    "    if(num % i == 0):\n",
    "        li.append(i)\n",
    "print(\"Enter Number Is Divisival by \",li)"
   ]
  },
  {
   "cell_type": "markdown",
   "metadata": {},
   "source": [
    "    --> 5.\tTake two lists, say for example these two:\n",
    "      a = [1, 1, 2, 3, 5, 8, 13, 21, 34, 55, 89]\n",
    "      b = [1, 2, 3, 4, 5, 6, 7, 8, 9, 10, 11, 12, 13]\n",
    "    and write a program that returns a list that contains only the elements that are common between the lists (without duplicates). Make sure your program works on two lists of different sizes.\n"
   ]
  },
  {
   "cell_type": "code",
   "execution_count": 2,
   "metadata": {},
   "outputs": [
    {
     "name": "stdout",
     "output_type": "stream",
     "text": [
      "Enter How Many You Want To Insert Into First List :-    5\n",
      "Enter Element :-    2\n",
      "Enter Element :-    3\n",
      "Enter Element :-    4\n",
      "Enter Element :-    5\n",
      "Enter Element :-    5\n",
      "Entred First List is :-   [2, 3, 4, 5, 5]\n",
      "Enter How Many You Want To Insert Into Second List :-    1\n",
      "Enter Element :-    2\n",
      "Entered Second List Is :-   [2]\n",
      "Common Elements in Both List Are :-   [2]\n"
     ]
    }
   ],
   "source": [
    "n_1 = int(input(\"Enter How Many You Want To Insert Into First List :-    \"))\n",
    "\n",
    "li_1 = []\n",
    "\n",
    "for i in range(0,n_1):\n",
    "    ele = int(input(\"Enter Element :-    \"))\n",
    "    \n",
    "    li_1.append(ele)\n",
    "    \n",
    "set1 = set(li_1)\n",
    "print(\"Entred First List is :-  \",li_1)\n",
    "\n",
    "n_2 = int(input(\"Enter How Many You Want To Insert Into Second List :-    \"))\n",
    "\n",
    "li_2 = []\n",
    "\n",
    "for i in range(0,n_2):\n",
    "    ele = int(input(\"Enter Element :-    \"))\n",
    "    \n",
    "    li_2.append(ele)\n",
    "\n",
    "set2 = set(li_2)\n",
    "print(\"Entered Second List Is :-  \",li_2)\n",
    "\n",
    "com_set = set()\n",
    "\n",
    "com_set = set1 & set2\n",
    "\n",
    "inter= list(com_set)\n",
    "\n",
    "print(\"Common Elements in Both List Are :-  \",inter)"
   ]
  },
  {
   "cell_type": "markdown",
   "metadata": {},
   "source": [
    "     --> 6.\tAsk the user for a string and print out whether this string is a palindrome or not."
   ]
  },
  {
   "cell_type": "code",
   "execution_count": 6,
   "metadata": {},
   "outputs": [
    {
     "name": "stdout",
     "output_type": "stream",
     "text": [
      "Enter A String Which You Want To Check Palindrome :-    int\n",
      "No, Enter String Is Not A Palindrome List\n"
     ]
    }
   ],
   "source": [
    "def reverse(s):\n",
    "    return s[::-1]\n",
    "def isPalindrome(s):\n",
    "    rev = reverse(s)\n",
    "    \n",
    "    if(s == rev):\n",
    "        return True\n",
    "    return False\n",
    "    \n",
    "str = input(\"Enter A String Which You Want To Check Palindrome :-    \")\n",
    "\n",
    "ans = isPalindrome(str)\n",
    "\n",
    "if ans == 1:\n",
    "    print(\"Yes, Enter String Is A Palindrome List\")\n",
    "else:\n",
    "    print(\"No, Enter String Is Not A Palindrome List\")"
   ]
  },
  {
   "cell_type": "markdown",
   "metadata": {},
   "source": [
    "    --> 7.\tLet’s say I give you a list saved in a variable: a = [1, 4, 9, 16, 25, 36, 49, 64, 81, 100]. Write one line of Python that takes this list a and makes a new list that has only the even elements of this list in it."
   ]
  },
  {
   "cell_type": "code",
   "execution_count": null,
   "metadata": {},
   "outputs": [],
   "source": [
    "n_1 = int(input(\"Enter How Many You Want To Insert Into First List :-    \"))\n",
    "\n",
    "li_1 = []\n",
    "\n",
    "for i in range(0,n_1):\n",
    "    ele = int(input(\"Enter Element n list :-    \"))\n",
    "    li_1.append(ele)\n",
    "\n",
    "for()"
   ]
  }
 ],
 "metadata": {
  "kernelspec": {
   "display_name": "Python 3",
   "language": "python",
   "name": "python3"
  },
  "language_info": {
   "codemirror_mode": {
    "name": "ipython",
    "version": 3
   },
   "file_extension": ".py",
   "mimetype": "text/x-python",
   "name": "python",
   "nbconvert_exporter": "python",
   "pygments_lexer": "ipython3",
   "version": "3.7.3"
  }
 },
 "nbformat": 4,
 "nbformat_minor": 2
}
