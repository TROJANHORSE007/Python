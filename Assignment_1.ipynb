{
 "cells": [
  {
   "cell_type": "markdown",
   "metadata": {},
   "source": [
    "    --> Write a Python program to find maximum between two numbers."
   ]
  },
  {
   "cell_type": "code",
   "execution_count": 1,
   "metadata": {},
   "outputs": [
    {
     "name": "stdout",
     "output_type": "stream",
     "text": [
      "Enter First Value :-   65\n",
      "Enter Second Value :-   75\n",
      "B is Greater Than A\n"
     ]
    }
   ],
   "source": [
    "a = int(input(\"Enter First Value :-   \"))\n",
    "b = int(input(\"Enter Second Value :-   \"))\n",
    "\n",
    "if (a > b):\n",
    "    print(\"A is Greater Than B\")\n",
    "else:\n",
    "    print(\"B is Greater Than A\")"
   ]
  },
  {
   "cell_type": "markdown",
   "metadata": {},
   "source": [
    "    --> Write a Python program to find maximum between three numbers."
   ]
  },
  {
   "cell_type": "code",
   "execution_count": 2,
   "metadata": {},
   "outputs": [
    {
     "name": "stdout",
     "output_type": "stream",
     "text": [
      "Enter First Number :-    15\n",
      "Enter Second Number :-    65\n",
      "Enter Third Number :-    10\n",
      "B is Greater \n"
     ]
    }
   ],
   "source": [
    "a = int(input(\"Enter First Number :-    \"))\n",
    "b = int(input(\"Enter Second Number :-    \"))\n",
    "c = int(input(\"Enter Third Number :-    \"))\n",
    "\n",
    "if(a > b and a > c):\n",
    "    print(\"A is Greater \")\n",
    "elif (b > a and b > c):\n",
    "    print(\"B is Greater \")\n",
    "elif (c > a and c > b):\n",
    "    print(\"C is Greater\")"
   ]
  },
  {
   "cell_type": "markdown",
   "metadata": {},
   "source": [
    "    --> Write a Python program to check whether a number is negative, positive or zero."
   ]
  },
  {
   "cell_type": "code",
   "execution_count": 3,
   "metadata": {},
   "outputs": [
    {
     "name": "stdout",
     "output_type": "stream",
     "text": [
      "Enter a Number :-    -25\n",
      "Enter Number Is A Negative Number \n"
     ]
    }
   ],
   "source": [
    "a = int(input(\"Enter a Number :-    \"))\n",
    "\n",
    "if(a < 0):\n",
    "    print(\"Enter Number Is A Negative Number \")\n",
    "elif(a == 0):\n",
    "    print(\"You Enter Zero \")\n",
    "elif(a > 0):\n",
    "    print(\"Enter Number IS A Positive Number\")"
   ]
  },
  {
   "cell_type": "markdown",
   "metadata": {},
   "source": [
    "    --> Write a Python program to check whether a number is divisible by 5 and 11 or not."
   ]
  },
  {
   "cell_type": "code",
   "execution_count": 4,
   "metadata": {},
   "outputs": [
    {
     "name": "stdout",
     "output_type": "stream",
     "text": [
      "Enter A Number :-    251\n",
      "Number Is Not Devided By 5 And 11 Both\n"
     ]
    }
   ],
   "source": [
    "num = int(input(\"Enter A Number :-    \"))\n",
    "if(num % 5 == 0 and num % 11 == 0):\n",
    "    print(\"Enter Number Is Devided By 5 And 11 Both \")\n",
    "else:\n",
    "    print(\"Number Is Not Devided By 5 And 11 Both\")"
   ]
  },
  {
   "cell_type": "markdown",
   "metadata": {},
   "source": [
    "    --> Write a Python program to check whether a number is even or odd."
   ]
  },
  {
   "cell_type": "code",
   "execution_count": 5,
   "metadata": {},
   "outputs": [
    {
     "name": "stdout",
     "output_type": "stream",
     "text": [
      "Enter A Number :-    234\n",
      "Enter Number Is An Even Number\n"
     ]
    }
   ],
   "source": [
    "num = int(input(\"Enter A Number :-    \"))\n",
    "if(num % 2 == 0):\n",
    "    print(\"Enter Number Is An Even Number\")\n",
    "else:\n",
    "    print(\"Enter Number Is A Odd Number\")"
   ]
  },
  {
   "cell_type": "markdown",
   "metadata": {},
   "source": [
    "    --> Write a Python program to check whether a year is leap year or not."
   ]
  },
  {
   "cell_type": "code",
   "execution_count": 6,
   "metadata": {},
   "outputs": [
    {
     "name": "stdout",
     "output_type": "stream",
     "text": [
      "Enter Year to Check That Year Is Leep Year OR Not :-    2018\n",
      "Enter Year Is Not A Leep Year\n"
     ]
    }
   ],
   "source": [
    "year = int(input(\"Enter Year to Check That Year Is Leep Year OR Not :-    \"))\n",
    "if(year % 4 == 0):\n",
    "    print(\"Enter Year Is A Leep Year\")\n",
    "else:\n",
    "    print(\"Enter Year Is Not A Leep Year\")"
   ]
  },
  {
   "cell_type": "markdown",
   "metadata": {},
   "source": [
    "    --> Write a Python program to check whether a character is alphabet or not."
   ]
  },
  {
   "cell_type": "code",
   "execution_count": 7,
   "metadata": {},
   "outputs": [
    {
     "name": "stdout",
     "output_type": "stream",
     "text": [
      "Enter A Character :-   S\n",
      "Enter Character  is An Alphbet\n"
     ]
    }
   ],
   "source": [
    "char = input(\"Enter A Character :-   \")\n",
    "if((char >= 'a' and char <= 'z') or (char  >= 'A' and char <= 'Z')):\n",
    "    print(\"Enter Character  is An Alphbet\")\n",
    "else:\n",
    "    print(\"Enter Character  is Not An Alphabet\")"
   ]
  },
  {
   "cell_type": "markdown",
   "metadata": {},
   "source": [
    "    --> Write a Python program to input any alphabet and check whether it is vowel or consonant."
   ]
  },
  {
   "cell_type": "code",
   "execution_count": 8,
   "metadata": {},
   "outputs": [
    {
     "name": "stdout",
     "output_type": "stream",
     "text": [
      "Enter A Character :-   h\n",
      "Enter Caracter is An Alphabet\n",
      "Enter Caracter Is Also A Constent\n"
     ]
    }
   ],
   "source": [
    "char = input(\"Enter A Character :-   \")\n",
    "if((char >= 'a' and char <= 'z') or (char >= 'A' and char <= 'Z')):\n",
    "    print(\"Enter Caracter is An Alphabet\")\n",
    "if(char == 'a' or char == 'e' or char == 'i' or char == 'o' or char == 'u' or char == 'A' or char == 'E' or char == 'I' or char == 'O' or char == 'U'):\n",
    "    print(\"Enter Caracter Is Also A Vowel\")\n",
    "elif(char >= '0' and char <= '9'):\n",
    "    print(\"Enter Caracter Is A Digit\")\n",
    "else:\n",
    "    print(\"Enter Caracter Is Also A Constent\")"
   ]
  },
  {
   "cell_type": "markdown",
   "metadata": {},
   "source": [
    "    --> Write a Python program to input any character and check whether it is alphabet, digit or special character."
   ]
  },
  {
   "cell_type": "code",
   "execution_count": 9,
   "metadata": {},
   "outputs": [
    {
     "name": "stdout",
     "output_type": "stream",
     "text": [
      "Enter A Caracter :-    *\n",
      "Enter Caracter Is a Special Caracter\n"
     ]
    }
   ],
   "source": [
    "char = input(\"Enter A Caracter :-    \")\n",
    "if((char >= 'a' and char <= 'z') or (char >= 'A' and char <= 'Z')):\n",
    "    print(\"Enter Caracter Is an Alphbet\")\n",
    "\n",
    "elif(char >= '0' and char <= '9'):\n",
    "    print(\"Enter Caracter Is a Digit\")\n",
    "else:\n",
    "    print(\"Enter Caracter Is a Special Caracter\")"
   ]
  },
  {
   "cell_type": "markdown",
   "metadata": {},
   "source": [
    "    --> Write a Python program to check whether a character is uppercase or lowercase alphabet."
   ]
  },
  {
   "cell_type": "code",
   "execution_count": 10,
   "metadata": {},
   "outputs": [
    {
     "name": "stdout",
     "output_type": "stream",
     "text": [
      "Enter A Caracter :-   s\n",
      "Entered Charecter in Lower Case\n"
     ]
    }
   ],
   "source": [
    "char = input(\"Enter A Caracter :-   \")\n",
    "\n",
    "if(char >= 'A' and char <= 'Z'):\n",
    "    print(\"Entered Charecter in Upper Case\")\n",
    "elif(char >= 'a' and char <= 'z'):\n",
    "    print(\"Entered Charecter in Lower Case\")\n",
    "else:\n",
    "    print(\"You Not Enter Any Caracter\")"
   ]
  },
  {
   "cell_type": "markdown",
   "metadata": {},
   "source": [
    "    --> Write a Python program to input week number and print week day."
   ]
  },
  {
   "cell_type": "code",
   "execution_count": 11,
   "metadata": {},
   "outputs": [
    {
     "name": "stdout",
     "output_type": "stream",
     "text": [
      "Enter Weekday :-    5\n",
      "Friday\n"
     ]
    }
   ],
   "source": [
    "week_no = int(input(\"Enter Weekday :-    \"))\n",
    "\n",
    "if(week_no == 1):\n",
    "    print(\"Monday\")\n",
    "elif(week_no == 2):\n",
    "    print(\"Tuesday\")\n",
    "elif(week_no == 3):\n",
    "    print(\"Wednesday\")\n",
    "elif(week_no == 4):\n",
    "    print(\"Thrusday\")\n",
    "elif(week_no == 5):\n",
    "    print(\"Friday\")\n",
    "elif(week_no == 6):\n",
    "    print(\"Satarday\")\n",
    "elif(week_no == 7):\n",
    "    print(\"Sunday\")\n",
    "else:\n",
    "    print(\"You Enter Wrong Input\")"
   ]
  },
  {
   "cell_type": "markdown",
   "metadata": {},
   "source": [
    "    --> Write a Python program to input month number and print number of days in that month."
   ]
  },
  {
   "cell_type": "code",
   "execution_count": 12,
   "metadata": {},
   "outputs": [
    {
     "name": "stdout",
     "output_type": "stream",
     "text": [
      "Enter Month Number :-    10\n",
      "Octomber\n"
     ]
    }
   ],
   "source": [
    "month_no = int(input(\"Enter Month Number :-    \"))\n",
    "if(month_no == 1):\n",
    "    print(\"January\")\n",
    "elif(month_no == 2):\n",
    "    print(\"February\")\n",
    "elif(month_no == 3):\n",
    "    print(\"March\")\n",
    "elif(month_no == 4):\n",
    "    print(\"April\")\n",
    "elif(month_no == 5):\n",
    "    print(\"May\")\n",
    "elif(month_no == 6):\n",
    "    print(\"June\")\n",
    "elif(month_no == 7):\n",
    "    print(\"July\")\n",
    "elif(month_no == 8):\n",
    "    print(\"August\")\n",
    "elif(month_no == 9):\n",
    "    print(\"September\")\n",
    "elif(month_no == 10):\n",
    "    print(\"Octomber\")\n",
    "elif(month_no == 11):\n",
    "    print(\"November\")\n",
    "elif(month_no == 12):\n",
    "    print(\"December\")\n",
    "else:\n",
    "    print(\"You Enter A Wrong Mounth Number\")"
   ]
  },
  {
   "cell_type": "markdown",
   "metadata": {},
   "source": []
  },
  {
   "cell_type": "markdown",
   "metadata": {},
   "source": [
    "        --> Write a Python program to input angles of a triangle and check whether triangle is valid or not."
   ]
  },
  {
   "cell_type": "code",
   "execution_count": 13,
   "metadata": {},
   "outputs": [
    {
     "name": "stdout",
     "output_type": "stream",
     "text": [
      "Enter First Angle :-    45\n",
      "Enter Second Angle :-    35\n",
      "Enter Third Angle :-    100\n",
      "Tringle Is Valid\n"
     ]
    }
   ],
   "source": [
    "a1 = int(input(\"Enter First Angle :-    \"))\n",
    "a2 = int(input(\"Enter Second Angle :-    \"))\n",
    "a3 = int(input(\"Enter Third Angle :-    \"))\n",
    "\n",
    "total = a1 + a2 + a3\n",
    "if(total == 180):\n",
    "    print(\"Tringle Is Valid\")\n",
    "else:\n",
    "    print(\"Tringle Is Not Valid\")"
   ]
  },
  {
   "cell_type": "markdown",
   "metadata": {},
   "source": [
    "    --> Write a Python program to input all sides of a triangle and check whether triangle is valid or not."
   ]
  },
  {
   "cell_type": "code",
   "execution_count": 14,
   "metadata": {},
   "outputs": [
    {
     "name": "stdout",
     "output_type": "stream",
     "text": [
      "Enter First Side OF  Tringle :-    15\n",
      "Enter Second Side OF  Tringle :-    12\n",
      "Enter Third Side OF  Tringle :-    20\n",
      "The Tringle Is Valid\n"
     ]
    }
   ],
   "source": [
    "side1 = int(input(\"Enter First Side OF  Tringle :-    \"))\n",
    "side2 = int(input(\"Enter Second Side OF  Tringle :-    \"))\n",
    "side3 = int(input(\"Enter Third Side OF  Tringle :-    \"))\n",
    "\n",
    "if((side1 + side2 > side3) and (side2 + side3 > side1) and (side3 + side1 > side2)):\n",
    "    print(\"The Tringle Is Valid\")\n",
    "else: \n",
    "    print(\"Tringle Is Not Valid\")"
   ]
  },
  {
   "cell_type": "markdown",
   "metadata": {},
   "source": [
    "    --> Write a Python program to check whether the triangle is equilateral, isosceles or scalene triangle.\n",
    "\n"
   ]
  },
  {
   "cell_type": "code",
   "execution_count": 15,
   "metadata": {},
   "outputs": [
    {
     "name": "stdout",
     "output_type": "stream",
     "text": [
      "Enter The Vlaue Of x :-   14\n",
      "Enter The Vlaue Of y :-   14\n",
      "Enter The Vlaue Of z :-   14\n",
      "Equilateral triangle\n"
     ]
    }
   ],
   "source": [
    "x = int(input(\"Enter The Vlaue Of x :-   \"))\n",
    "y = int(input(\"Enter The Vlaue Of y :-   \"))\n",
    "z = int(input(\"Enter The Vlaue Of z :-   \"))\n",
    "\n",
    "if x == y == z:\n",
    "    print(\"Equilateral triangle\")\n",
    "elif x==y or y==z or z==x:\n",
    "    print(\"isosceles triangle\")\n",
    "else:\n",
    "    print(\"Scalene triangle\")"
   ]
  },
  {
   "cell_type": "markdown",
   "metadata": {},
   "source": [
    "    --> Write a Python program to find all roots of a quadratic equation."
   ]
  },
  {
   "cell_type": "code",
   "execution_count": null,
   "metadata": {},
   "outputs": [],
   "source": []
  },
  {
   "cell_type": "markdown",
   "metadata": {},
   "source": [
    "    --> Write a Python program to calculate profit or loss."
   ]
  },
  {
   "cell_type": "code",
   "execution_count": 17,
   "metadata": {},
   "outputs": [
    {
     "name": "stdout",
     "output_type": "stream",
     "text": [
      "Enter Selling Price :-    36\n",
      "Enter Purches Price :-    25\n",
      "Profit OF  11\n"
     ]
    }
   ],
   "source": [
    "sell_price = int(input(\"Enter Selling Price :-    \"))\n",
    "purches_price = int(input(\"Enter Purches Price :-    \"))\n",
    "\n",
    "result = sell_price - purches_price\n",
    "\n",
    "if(result < 0):\n",
    "    print(\"Loss OF Rs. \",-(result))\n",
    "else:\n",
    "    print(\"Profit OF \",result)"
   ]
  },
  {
   "cell_type": "markdown",
   "metadata": {},
   "source": [
    "    --> Write a Python program to input marks of five subjects Physics, Chemistry, Biology, Mathematics and Computer. Calculate percentage and grade according to following: \n",
    "    Percentage >= 90% : Grade A \n",
    "    Percentage >= 80% : Grade B \n",
    "    Percentage >= 70% : Grade C \n",
    "    Percentage >= 60% : Grade D \n",
    "    Percentage >= 40% : Grade E \n",
    "    Percentage < 40% : Grade F\n"
   ]
  },
  {
   "cell_type": "code",
   "execution_count": 18,
   "metadata": {},
   "outputs": [
    {
     "name": "stdout",
     "output_type": "stream",
     "text": [
      "Enter Obtain Marks In Physics :-     92\n",
      "Enter Obtain Marks In Chemistry :-     86\n",
      "Enter Obtain Marks In Mathematics  :-     94\n",
      "Enter Obtain Marks In Computer :-     96\n",
      "Enter Obtain Marks In Biology :-     88\n",
      "Result :-   A\n"
     ]
    }
   ],
   "source": [
    "physics = int(input(\"Enter Obtain Marks In Physics :-     \"))\n",
    "chemistry = int(input(\"Enter Obtain Marks In Chemistry :-     \"))\n",
    "mathematics  = int(input(\"Enter Obtain Marks In Mathematics  :-     \"))\n",
    "computer = int(input(\"Enter Obtain Marks In Computer :-     \"))\n",
    "biology = int(input(\"Enter Obtain Marks In Biology :-     \"))\n",
    "\n",
    "total = physics + chemistry + mathematics + computer + biology\n",
    "\n",
    "per = (total/500) * 100\n",
    "\n",
    "if(per >= 90):\n",
    "    print(\"Result :-   A\")\n",
    "elif(per >= 80):\n",
    "    print(\"Result :-   B\")\n",
    "elif(per >= 70):\n",
    "    print(\"Result :-   C\")\n",
    "elif(per >= 60):\n",
    "    print(\"Result :-   D\")\n",
    "elif(per >= 40):\n",
    "    print(\"Result :-   E\")\n",
    "else:\n",
    "    print(\"Result :-   F\")"
   ]
  },
  {
   "cell_type": "markdown",
   "metadata": {},
   "source": [
    "    --> Write a Python program to input basic salary of an employee and calculate its Gross salary according to following: \n",
    "\n",
    "    Basic Salary <= 10000 : HRA = 20%, DA = 80% \n",
    "    Basic Salary <= 20000 : HRA = 25%, DA = 90% \n",
    "    Basic Salary > 20000 : HRA = 30%, DA = 95%\n"
   ]
  },
  {
   "cell_type": "code",
   "execution_count": 19,
   "metadata": {},
   "outputs": [
    {
     "name": "stdout",
     "output_type": "stream",
     "text": [
      "Enter Basic Salary :-    15000\n",
      "Total Salary OF That Person Is :-       32250.0\n"
     ]
    }
   ],
   "source": [
    "basic_sal = int(input(\"Enter Basic Salary :-    \"))\n",
    "if (basic_sal <= 10000):\n",
    "    HRA = 20/100;\n",
    "    DA = 80/100;\n",
    "elif (basic_sal <= 20000):\n",
    "    HRA = 25/100;\n",
    "    DA = 90/100;\n",
    "if (basic_sal > 20000):\n",
    "    HRA = 40/100;\n",
    "    DA = 95/100;\n",
    "total_sal = (basic_sal * HRA) + (basic_sal * DA) + basic_sal\n",
    "\n",
    "print(\"Total Salary OF That Person Is :-      \",total_sal)"
   ]
  },
  {
   "cell_type": "markdown",
   "metadata": {},
   "source": [
    "    --> Write a Python Program to input electricity unit charges and calculate total electricity bill according to the given condition: \n",
    "\n",
    "    For first 50 units Rs. 0.50/unit\n",
    "    For next 100 units Rs. 0.75/unit\n",
    "    For next 200 units Rs. 1.20/unit\n",
    "    For unit above 200 Rs. 1.50/unit\n",
    "    An additional surcharge of 20% is added to the bill"
   ]
  },
  {
   "cell_type": "code",
   "execution_count": 22,
   "metadata": {},
   "outputs": [
    {
     "name": "stdout",
     "output_type": "stream",
     "text": [
      "Enter Total Consume Unit In This Month :-    215\n",
      "Bill Ammount Is :-    205.0\n",
      "Surcharge Ammount Is :-    41.0\n",
      "Total Paybal Ammoubt Of Bill Is :-      246.0\n"
     ]
    }
   ],
   "source": [
    "con_unit = int(input(\"Enter Total Consume Unit In This Month :-    \"))\n",
    "\n",
    "if(con_unit <= 50):\n",
    "    amt = con_unit * .50\n",
    "elif(con_unit <= 100):\n",
    "    amt = (50 * .50) + ((con_unit - 50) * .75)\n",
    "elif(con_unit <= 200):\n",
    "    amt = (50 * .50) + (50 * .75) + ((con_unit - 100) * 1.20)\n",
    "elif(con_unit > 200):\n",
    "    amt = (50 * .50) + (50 * .75) + (100 * 1.20) + ((con_unit - 200) * 1.50)\n",
    "\n",
    "print(\"Bill Ammount Is :-   \",amt)\n",
    "    \n",
    "sur_charg = (amt * .20)\n",
    "\n",
    "print(\"Surcharge Ammount Is :-   \",sur_charg)\n",
    "\n",
    "total_amt = amt + sur_charg\n",
    "\n",
    "print(\"Total Paybal Ammoubt Of Bill Is :-     \",total_amt)"
   ]
  },
  {
   "cell_type": "markdown",
   "metadata": {},
   "source": [
    "#### "
   ]
  }
 ],
 "metadata": {
  "kernelspec": {
   "display_name": "Python 3",
   "language": "python",
   "name": "python3"
  },
  "language_info": {
   "codemirror_mode": {
    "name": "ipython",
    "version": 3
   },
   "file_extension": ".py",
   "mimetype": "text/x-python",
   "name": "python",
   "nbconvert_exporter": "python",
   "pygments_lexer": "ipython3",
   "version": "3.7.3"
  }
 },
 "nbformat": 4,
 "nbformat_minor": 2
}
